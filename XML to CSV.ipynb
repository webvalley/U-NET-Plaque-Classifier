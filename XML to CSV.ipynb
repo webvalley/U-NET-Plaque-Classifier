{
 "cells": [
  {
   "cell_type": "code",
   "execution_count": 10,
   "metadata": {},
   "outputs": [],
   "source": [
    "import xml.etree.ElementTree as ET\n",
    "import csv\n",
    "imagename = 'sagittal1.png'\n",
    "tree = ET.parse(\"/Users/krithik/Downloads/image-classification/RCNN Test Data/Sagittal1.xml\")\n",
    "root = tree.getroot()\n",
    "\n",
    "# open a file for writing\n",
    "\n",
    "label_data = open('/Users/krithik/Downloads/image-classification/RCNN Test Data/Sagittal1.csv', 'w')\n",
    "\n",
    "# create the csv writer object\n",
    "\n",
    "csvwriter = csv.writer(label_data)\n",
    "label_head = []\n",
    "\n",
    "count = 0\n",
    "for member in root.findall('object'):\n",
    "    label = []\n",
    "    if count == 0:\n",
    "        label_head.append('image_names')\n",
    "        name = member.find('name').tag\n",
    "        label_head.append(name)\n",
    "        for detail in member.findall('bndbox'):\n",
    "            xmin = detail.find('xmin').tag\n",
    "            label_head.append(xmin)\n",
    "            xmax = detail.find('xmax').tag\n",
    "            label_head.append(xmax)\n",
    "            ymin = detail.find('ymin').tag\n",
    "            label_head.append(ymin)\n",
    "            ymax = detail.find('ymax').tag\n",
    "            label_head.append(ymax)\n",
    "        csvwriter.writerow(label_head)\n",
    "        count = count + 1\n",
    "    \n",
    "\n",
    "    label.append(imagename)\n",
    "    name = member.find('name').text\n",
    "    label.append(name)\n",
    "    for detail in member.findall('bndbox'):\n",
    "        xmin = detail.find('xmin').text\n",
    "        label.append(xmin)\n",
    "        xmax = detail.find('xmax').text\n",
    "        label.append(xmax)\n",
    "        ymin = detail.find('ymin').text\n",
    "        label.append(ymin)\n",
    "        ymax = detail.find('ymax').text\n",
    "        label.append(ymax)\n",
    "    csvwriter.writerow(label)\n",
    "label_data.close()"
   ]
  }
 ],
 "metadata": {
  "kernelspec": {
   "display_name": "Python 3",
   "language": "python",
   "name": "python3"
  },
  "language_info": {
   "codemirror_mode": {
    "name": "ipython",
    "version": 3
   },
   "file_extension": ".py",
   "mimetype": "text/x-python",
   "name": "python",
   "nbconvert_exporter": "python",
   "pygments_lexer": "ipython3",
   "version": "3.7.3"
  }
 },
 "nbformat": 4,
 "nbformat_minor": 2
}
